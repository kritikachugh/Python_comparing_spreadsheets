{
  "nbformat": 4,
  "nbformat_minor": 0,
  "metadata": {
    "colab": {
      "name": "comparing_spreadsheets.ipynb",
      "provenance": [],
      "collapsed_sections": [],
      "include_colab_link": true
    },
    "kernelspec": {
      "name": "python3",
      "display_name": "Python 3"
    }
  },
  "cells": [
    {
      "cell_type": "markdown",
      "metadata": {
        "id": "view-in-github",
        "colab_type": "text"
      },
      "source": [
        "<a href=\"https://colab.research.google.com/github/kritikachugh/Python_comparing_spreadsheets/blob/master/comparing_spreadsheets.ipynb\" target=\"_parent\"><img src=\"https://colab.research.google.com/assets/colab-badge.svg\" alt=\"Open In Colab\"/></a>"
      ]
    },
    {
      "cell_type": "markdown",
      "metadata": {
        "id": "vABRfZSyWZOB",
        "colab_type": "text"
      },
      "source": [
        "csv file link - https://docs.google.com/spreadsheets/d/1n27HqmSpC592JFLZQ14mJvGqyyfJYOIqLXnj5hRDeWM/edit#gid=1854643783"
      ]
    },
    {
      "cell_type": "markdown",
      "metadata": {
        "id": "Zu8A_wQjeyRn",
        "colab_type": "text"
      },
      "source": [
        "The task aimed at comparing two columns for highlighting duplicate gene_ids."
      ]
    },
    {
      "cell_type": "markdown",
      "metadata": {
        "id": "kaTHbD1XW6ep",
        "colab_type": "text"
      },
      "source": [
        "# Uploading the csv file\n",
        "\n",
        "To facilitate this task, I converted an excel file to the csv file. "
      ]
    },
    {
      "cell_type": "code",
      "metadata": {
        "id": "pfymPJwyK9Fi",
        "colab_type": "code",
        "colab": {
          "resources": {
            "http://localhost:8080/nbextensions/google.colab/files.js": {
              "data": "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",
              "ok": true,
              "headers": [
                [
                  "content-type",
                  "application/javascript"
                ]
              ],
              "status": 200,
              "status_text": ""
            }
          },
          "base_uri": "https://localhost:8080/",
          "height": 72
        },
        "outputId": "0cc58f6f-78b6-408e-dbf2-7529b65c28c0"
      },
      "source": [
        "import csv \n",
        "from google.colab import files\n",
        "uploaded = files.upload()"
      ],
      "execution_count": 2,
      "outputs": [
        {
          "output_type": "display_data",
          "data": {
            "text/html": [
              "\n",
              "     <input type=\"file\" id=\"files-07c26930-cf88-4d52-a90b-2e9e73740fe5\" name=\"files[]\" multiple disabled\n",
              "        style=\"border:none\" />\n",
              "     <output id=\"result-07c26930-cf88-4d52-a90b-2e9e73740fe5\">\n",
              "      Upload widget is only available when the cell has been executed in the\n",
              "      current browser session. Please rerun this cell to enable.\n",
              "      </output>\n",
              "      <script src=\"/nbextensions/google.colab/files.js\"></script> "
            ],
            "text/plain": [
              "<IPython.core.display.HTML object>"
            ]
          },
          "metadata": {
            "tags": []
          }
        },
        {
          "output_type": "stream",
          "text": [
            "Saving gene_ids.csv to gene_ids.csv\n"
          ],
          "name": "stdout"
        }
      ]
    },
    {
      "cell_type": "markdown",
      "metadata": {
        "id": "yWZf3s76Z3Rf",
        "colab_type": "text"
      },
      "source": [
        "# Reading the csv file"
      ]
    },
    {
      "cell_type": "code",
      "metadata": {
        "id": "pOgP8STOLlwS",
        "colab_type": "code",
        "colab": {
          "base_uri": "https://localhost:8080/",
          "height": 34
        },
        "outputId": "cb80959c-867d-461a-eaba-0c24716b0975"
      },
      "source": [
        "# csv file name \n",
        "filename = \"gene_ids.csv\"\n",
        "  \n",
        "# initializing the titles and rows list \n",
        "gene_ids_1 = set() \n",
        "gene_ids_2 = set()\n",
        "  \n",
        "# reading csv file \n",
        "with open(filename) as csvfile: \n",
        "    # creating a csv reader object \n",
        "    csvreader = csv.reader(csvfile) \n",
        "      \n",
        "    # extracting field names through first row \n",
        "    fields = next(csvreader) \n",
        "  \n",
        "    # extracting each data row one by one \n",
        "    for row in csvreader: \n",
        "      if row[0] != '':\n",
        "        gene_ids_1.add(row[0])\n",
        "      if row[1] != '':\n",
        "        gene_ids_2.add(row[1])\n",
        "        # if row[0] != '':\n",
        "        #   gene_id_1.append(row[0])\n",
        "        # if row[1] != '':\n",
        "        #   gene_id_2.append(row[1])\n",
        "  \n",
        "    # get total number of rows \n",
        "    print(\"Total no. of rows: %d\"%(csvreader.line_num)) "
      ],
      "execution_count": 3,
      "outputs": [
        {
          "output_type": "stream",
          "text": [
            "Total no. of rows: 49633\n"
          ],
          "name": "stdout"
        }
      ]
    },
    {
      "cell_type": "code",
      "metadata": {
        "id": "hBpdV415Vftm",
        "colab_type": "code",
        "colab": {
          "base_uri": "https://localhost:8080/",
          "height": 51
        },
        "outputId": "c3731c60-7471-42f1-d7a0-a2af258ca696"
      },
      "source": [
        "print(len(gene_ids_1))\n",
        "print(len(gene_ids_2))"
      ],
      "execution_count": 4,
      "outputs": [
        {
          "output_type": "stream",
          "text": [
            "19106\n",
            "1376\n"
          ],
          "name": "stdout"
        }
      ]
    },
    {
      "cell_type": "markdown",
      "metadata": {
        "id": "rZ5aw-BEa4ns",
        "colab_type": "text"
      },
      "source": [
        "# Gene_ids present in both the columns gene_id_1 and gene_id_2"
      ]
    },
    {
      "cell_type": "code",
      "metadata": {
        "id": "E36vcNQXZq6V",
        "colab_type": "code",
        "colab": {}
      },
      "source": [
        "present_in_both = []\n",
        "for gene_id_1 in gene_ids_1:\n",
        "  if gene_id_1 in gene_ids_2:\n",
        "    present_in_both.append(gene_id_1)"
      ],
      "execution_count": 5,
      "outputs": []
    },
    {
      "cell_type": "code",
      "metadata": {
        "id": "Leo0AXRqaOEB",
        "colab_type": "code",
        "colab": {
          "base_uri": "https://localhost:8080/",
          "height": 54
        },
        "outputId": "807bbcc7-7b50-49e4-bdff-a2b7fe9cf532"
      },
      "source": [
        "print(present_in_both )"
      ],
      "execution_count": 6,
      "outputs": [
        {
          "output_type": "stream",
          "text": [
            "['2864', '5509', '2296', '120796', '26529', '8383', '353142', '56124', '139741', '8361', '121129', '8387', '390191', '8364', '283093', '57191', '653427', '441932', '8693', '259295', '83443', '9852', '168433', '125962', '387856', '56129', '138882', '653404', '8970', '8321', '122706', '26339', '340529', '646817', '353132', '92552', '386681', '2300', '100132386', '56125', '162998', '3448', '200350', '647219', '653240', '54627', '113189', '285643', '8698', '8326', '151516', '85290', '84643', '386680', '441531', '390075', '10586', '3304', '403284', '53842', '64207', '4675', '388730', '390445', '284257', '8330', '4762', '119774', '147664', '8290', '2298', '81318', '7259', '92815', '100129396', '120793', '83755', '391121', '219482', '337972', '347549', '135458', '3024', '100507050', '284532', '266812', '219954', '2838', '25907', '23401', '345630', '154', '391769', '340980', '386682', '387082', '1365', '26188', '57827', '10123', '389895', '343930', '440672', '151', '8362', '200765', '8350', '317772', '168400', '317701', '56892', '81050', '26497', '317702', '26531', '136259', '50834', '94033', '26533', '118442', '337879', '50838', '107181291', '653505', '85294', '121504', '3010', '25763', '389692', '389792', '442184', '2188', '8368', '730755', '55150', '439915', '283694', '8354', '730130', '389856', '26538', '81697', '139420', '337959', '347454', '340307', '83902', '150221', '5912', '219960', '10614', '6656', '340900', '337967', '474382', '57215', '8352', '259292', '162387', '10929', '2712', '56128', '134548', '128366', '2301', '8339', '79541', '79296', '9935', '84076', '100170841', '94086', '140625', '119772', '100170229', '3310', '403257', '79346', '150353', '26285', '161198', '81341', '3306', '126792', '7789', '729627', '353143', '23212', '140801', '7681', '8357', '645745', '64693', '23742', '9293', '8690', '134391', '2848', '79102', '339345', '170487', '3006', '51224', '79339', '81850', '390275', '392133', '27022', '339403', '752014', '5454', '386684', '6248', '84084', '4342', '26492', '119695', '267020', '56903', '51270', '84322', '8355', '386676', '29978', '84694', '54429', '85235', '10343', '390084', '347411', '100130302', '338398', '6903', '9241', '29890', '100463488', '143496', '390054', '347468', '3447', '23641', '153743', '23283', '2853', '492311', '100462981', '3397', '79482', '259296', '84890', '3446', '144125', '440093', '347051', '100462983', '220388', '139599', '5814', '84654', '283297', '727857', '4991', '3014', '342538', '8329', '105372280', '257236', '8941', '158055', '11007', '138474', '641654', '84948', '83901', '388', '338751', '146861', '133022', '26692', '170062', '8348', '440804', '3013', '53940', '139562', '283111', '390190', '100462977', '338376', '286319', '79134', '441490', '474381', '2306', '337979', '386678', '125111', '119679', '8386', '388112', '441294', '170067', '158506', '55330', '337978', '91603', '139886', '126961', '642623', '27198', '79549', '386672', '386746', '8370', '221823', '259285', '390066', '3846', '127670', '165100', '154150', '8263', '55794', '84277', '387748', '100129484', '126272', '1068', '4157', '653604', '388531', '83897', '143244', '8359', '3005', '403253', '8363', '389199', '100463289', '254950', '339291', '3727', '81309', '56121', '386685', '389151', '810', '57469', '259249', '84826', '26189', '100132015', '343170', '284827', '165140', '606553', '220213', '84692', '474383', '83987', '26687', '26167', '79803', '643988', '337966', '54551', '26534', '128312', '9080', '340578', '388951', '2535', '5161', '84226', '168448', '85291', '23270', '55527', '23630', '57692', '56475', '100131107', '386677', '337976', '85509', '386724', '728819', '256892', '162540', '442194', '79345', '6664', '113763', '3467', '83740', '402682', '4692', '152217', '4115', '8332', '2619', '2747', '59274', '5568', '100132911', '392390', '100463285', '8349', '150', '26145', '157773', '283106', '50840', '644538', '23520', '23519', '54145', '340719', '5232', '84075', '3451', '286430', '219959', '442186', '101927581', '51806', '11166', '81466', '140258', '2303', '390082', '344561', '26696', '148066', '2304', '5462', '390064', '171169', '55039', '80117', '85453', '401097', '55231', '115207', '390432', '2290', '11211', '83896', '3441', '387267', '259287', '386675', '8344', '8366', '644943', '23741', '728299', '285601', '4247', '50833', '319100', '64064', '259290', '388407', '167826', '285429', '26707', '27288', '343171', '8342', '56130', '337974', '441495', '100128553', '1059', '143630', '222894', '29930', '4081', '8971', '5456', '3008', '337977', '9023', '10949', '644096', '55958', '168455', '79295', '340602', '337971', '100129361', '84290', '56131', '8360', '138883', '101927655', '112970', '5028', '337963', '100381270', '131583', '390212', '337973', '84842', '441608', '8334', '7737', '2810', '80039', '6879', '100132476', '9082', '390594', '4674', '57050', '337969', '3012', '147040', '441518', '442444', '92104', '100151643', '3741', '353219', '8988', '6736', '8367', '164127', '1038', '116448', '8388', '255626', '10798', '2854', '3444', '729020', '100288814', '127707', '8403', '50835', '441925', '147407', '93661', '85293', '100132463', '83942', '8389', '341567', '442425', '741', '4975', '643338', '83884', '3449', '139425', '8358', '4993', '28986', '100996259', '8705', '11250', '8336', '122665', '286380', '10744', '63904', '85376', '5726', '113730', '81872', '94026', '83650', '54554', '283092', '259293', '100131244', '100528020', '388394', '3744', '81871', '353137', '219957', '164153', '8843', '768239', '10023', '3018', '3442', '64110', '414899', '219453', '101928147', '442185', '26737', '5030', '353332', '93183', '59351', '378884', '552889', '26693', '79470', '643314', '56133', '100288323', '50839', '84078', '23538', '353164', '56122', '140701', '152138', '187', '219972', '26530', '401663', '2297', '119678', '1816', '8335', '474384', '116512', '9220', '256144', '653659', '390205', '3642', '283617', '9073', '140947', '10670', '27319', '92483', '80316', '646000', '121549', '337878', '390538', '221613', '5455', '117196', '387273', '8324', '140856', '283110', '219473', '163933', '729759', '440567', '3445', '83895', '134187', '51289', '8294', '79697', '8343', '153', '89890', '100128124', '284382', '345079', '643854', '118460', '56126', '58531', '390063', '219429', '391114', '257240', '645974', '387763', '26494', '27304', '391211', '337970', '353131', '474', '152', '81300', '723790', '11085', '83983', '337968', '337882', '56132', '5535', '137075', '161779', '376132', '219428', '8340', '100142659', '285877', '84616', '442361', '881', '388327', '389857', '404281', '4070', '56160', '646962', '8346', '162083', '116224', '149371', '84684', '222698', '377630', '10880', '8331', '4160', '3726', '51278', '9426', '493901', '8933', '390059', '150160', '259286', '259289', '83899', '26686', '220382', '139804', '56127', '391104', '158724', '389152', '92806', '219431', '387266', '100288485', '9865', '56123', '441150', '54913', '125958', '3440', '57124', '345651', '83551', '7056', '345456', '504189', '5042', '3754', '9038', '386683', '337985', '150786', '23708', '8338', '643812', '440051', '440023', '139628', '727800', '199834', '94107', '390038', '8365', '85280', '3452', '203611', '728279', '23617', '50836', '378925', '64396', '337880', '333932', '100463486', '101927423', '282808', '3303', '3009', '390037', '10881', '83900', '100463482', '338442', '6666', '353515', '9240', '119694', '57717', '504191', '390036', '26212', '54785', '29935', '8345', '101928120', '50831', '337975', '386674', '65124', '100463487', '128408', '728255', '50832', '219477', '55272', '653598', '150737', '57830', '139760', '1364', '219437', '353323', '246744', '83903', '493861', '387263', '317705', '219952', '391322', '390245', '81851', '387849', '149647', '6887', '414157', '22845', '116511', '389332', '653166', '55170', '22928', '285800', '26071', '85364', '4159', '122011', '3352', '92935', '100131902', '668', '7634', '8337', '389874', '259291', '648791', '389333', '24147', '284383', '337960', '259294', '390061', '403313', '138009', '3007', '134860', '8356', '100129307', '163732', '126541', '391107', '387758', '441478', '3443', '390441', '414301', '85289', '440021', '81448', '1052', '81870', '5453', '100129271', '57132', '8341', '8969', '94059', '728224', '388818', '219986', '8968', '219965', '50837', '353333', '1582', '163126', '440050', '414061', '219958', '9836', '158586', '55096', '100288287', '387264', '643803', '2307', '54546', '2850', '8369', '6754', '143502', '6572', '161291', '220202']\n"
          ],
          "name": "stdout"
        }
      ]
    },
    {
      "cell_type": "code",
      "metadata": {
        "id": "QNdLbYerR-Vr",
        "colab_type": "code",
        "colab": {
          "base_uri": "https://localhost:8080/",
          "height": 34
        },
        "outputId": "70dbafd6-9b9a-490f-b1c6-da5c0f96d223"
      },
      "source": [
        "print(len(present_in_both))"
      ],
      "execution_count": 7,
      "outputs": [
        {
          "output_type": "stream",
          "text": [
            "903\n"
          ],
          "name": "stdout"
        }
      ]
    },
    {
      "cell_type": "markdown",
      "metadata": {
        "id": "_i-83hIbb6_S",
        "colab_type": "text"
      },
      "source": [
        "# Gene_ids present only in column gene_id_1"
      ]
    },
    {
      "cell_type": "code",
      "metadata": {
        "id": "OX5IvR41X_I2",
        "colab_type": "code",
        "colab": {}
      },
      "source": [
        "present_only_in_1 = []\n",
        "for gene_id_1 in gene_ids_1:\n",
        "  if gene_id_1 not in gene_ids_2:\n",
        "    present_only_in_1.append(gene_id_1)"
      ],
      "execution_count": 8,
      "outputs": []
    },
    {
      "cell_type": "code",
      "metadata": {
        "id": "bq1iG7_lcp_H",
        "colab_type": "code",
        "colab": {
          "base_uri": "https://localhost:8080/",
          "height": 34
        },
        "outputId": "b81c1d86-1dea-4fbf-de5e-808c23900222"
      },
      "source": [
        "print(len(present_only_in_1))"
      ],
      "execution_count": 9,
      "outputs": [
        {
          "output_type": "stream",
          "text": [
            "18203\n"
          ],
          "name": "stdout"
        }
      ]
    },
    {
      "cell_type": "markdown",
      "metadata": {
        "id": "xALcSiM5cD_h",
        "colab_type": "text"
      },
      "source": [
        "# Gene_ids present only in column gene_id_2"
      ]
    },
    {
      "cell_type": "code",
      "metadata": {
        "id": "dB6_G_g5ctPs",
        "colab_type": "code",
        "colab": {}
      },
      "source": [
        "present_only_in_2 = []\n",
        "for gene_id_2 in gene_ids_2:\n",
        "  if gene_id_2 not in gene_ids_1:\n",
        "    present_only_in_2.append(gene_id_2)"
      ],
      "execution_count": 10,
      "outputs": []
    },
    {
      "cell_type": "code",
      "metadata": {
        "id": "T9OM7lEVdBK6",
        "colab_type": "code",
        "colab": {
          "base_uri": "https://localhost:8080/",
          "height": 34
        },
        "outputId": "cd303904-84bb-4683-e219-21a3a5ab13b5"
      },
      "source": [
        "print(len(present_only_in_2))"
      ],
      "execution_count": 11,
      "outputs": [
        {
          "output_type": "stream",
          "text": [
            "473\n"
          ],
          "name": "stdout"
        }
      ]
    },
    {
      "cell_type": "markdown",
      "metadata": {
        "id": "f4TaDGDdcP8u",
        "colab_type": "text"
      },
      "source": [
        "# Creating columns of the output file"
      ]
    },
    {
      "cell_type": "code",
      "metadata": {
        "id": "J8me65G3dlC-",
        "colab_type": "code",
        "colab": {}
      },
      "source": [
        "# column names  \n",
        "columns = ['present_in_both', 'present_only_in_1', 'present_only_in_2']  "
      ],
      "execution_count": 12,
      "outputs": []
    },
    {
      "cell_type": "markdown",
      "metadata": {
        "id": "Xy1P56KmcWMI",
        "colab_type": "text"
      },
      "source": [
        "# Assigning the name to the output file"
      ]
    },
    {
      "cell_type": "code",
      "metadata": {
        "id": "GrQYrwx0iIjs",
        "colab_type": "code",
        "colab": {}
      },
      "source": [
        "# name of csv file  \n",
        "output_filename = \"gene_ids_with_diff.csv\""
      ],
      "execution_count": 13,
      "outputs": []
    },
    {
      "cell_type": "markdown",
      "metadata": {
        "id": "JVxk8jk4cfZL",
        "colab_type": "text"
      },
      "source": [
        "# Creating the rows of the output file"
      ]
    },
    {
      "cell_type": "code",
      "metadata": {
        "id": "RG84CMBxje5Q",
        "colab_type": "code",
        "colab": {}
      },
      "source": [
        "# data rows of csv file  \n",
        "rows = [present_in_both, present_only_in_1, present_only_in_2 ]  "
      ],
      "execution_count": 14,
      "outputs": []
    },
    {
      "cell_type": "code",
      "metadata": {
        "id": "GoD0NEYryawA",
        "colab_type": "code",
        "colab": {}
      },
      "source": [
        "rows = []\n",
        "for index in range(max(len(present_in_both), len(present_only_in_1), len(present_only_in_2))):\n",
        "  row = []\n",
        "\n",
        "  if index < len(present_in_both):\n",
        "    row.append(present_in_both[index])\n",
        "  else:\n",
        "    row.append('')\n",
        "\n",
        "  if index < len(present_only_in_1):\n",
        "    row.append(present_only_in_1[index])\n",
        "  else:\n",
        "    row.append('')\n",
        "\n",
        "  if index < len(present_only_in_2):\n",
        "    row.append(present_only_in_2[index])\n",
        "  else:\n",
        "    row.append('')\n",
        "  \n",
        "  rows.append(row)"
      ],
      "execution_count": 15,
      "outputs": []
    },
    {
      "cell_type": "markdown",
      "metadata": {
        "id": "w327WMxDZ_r9",
        "colab_type": "text"
      },
      "source": [
        "# Writing to the csv file"
      ]
    },
    {
      "cell_type": "code",
      "metadata": {
        "id": "5v1odhsylAdh",
        "colab_type": "code",
        "colab": {}
      },
      "source": [
        "# writing to csv file  \n",
        "with open(output_filename, 'w') as csvfile:  \n",
        "    # creating a csv writer object  \n",
        "    csvwriter = csv.writer(csvfile) \n",
        "    # writing the columns\n",
        "    csvwriter.writerow(columns) \n",
        "    # writing the data rows\n",
        "    csvwriter.writerows(rows) "
      ],
      "execution_count": 16,
      "outputs": []
    },
    {
      "cell_type": "markdown",
      "metadata": {
        "id": "MNbpQT4haFyj",
        "colab_type": "text"
      },
      "source": [
        "# Downloading the csv file\n",
        "\n",
        "This file has three columns. The first column consists of the ids present in both gene_id_1 and gene_id_2 columns, the second column contains only ids in gene_id_1 and the last one has only ids in gene_id_2. "
      ]
    },
    {
      "cell_type": "code",
      "metadata": {
        "id": "3nPnnuHakVFm",
        "colab_type": "code",
        "colab": {
          "base_uri": "https://localhost:8080/",
          "height": 17
        },
        "outputId": "6bc71a7a-6cfe-4821-ca5b-5d299a1e8da4"
      },
      "source": [
        "from google.colab import files\n",
        "files.download(output_filename)"
      ],
      "execution_count": 17,
      "outputs": [
        {
          "output_type": "display_data",
          "data": {
            "application/javascript": [
              "\n",
              "    async function download(id, filename, size) {\n",
              "      if (!google.colab.kernel.accessAllowed) {\n",
              "        return;\n",
              "      }\n",
              "      const div = document.createElement('div');\n",
              "      const label = document.createElement('label');\n",
              "      label.textContent = `Downloading \"${filename}\": `;\n",
              "      div.appendChild(label);\n",
              "      const progress = document.createElement('progress');\n",
              "      progress.max = size;\n",
              "      div.appendChild(progress);\n",
              "      document.body.appendChild(div);\n",
              "\n",
              "      const buffers = [];\n",
              "      let downloaded = 0;\n",
              "\n",
              "      const channel = await google.colab.kernel.comms.open(id);\n",
              "      // Send a message to notify the kernel that we're ready.\n",
              "      channel.send({})\n",
              "\n",
              "      for await (const message of channel.messages) {\n",
              "        // Send a message to notify the kernel that we're ready.\n",
              "        channel.send({})\n",
              "        if (message.buffers) {\n",
              "          for (const buffer of message.buffers) {\n",
              "            buffers.push(buffer);\n",
              "            downloaded += buffer.byteLength;\n",
              "            progress.value = downloaded;\n",
              "          }\n",
              "        }\n",
              "      }\n",
              "      const blob = new Blob(buffers, {type: 'application/binary'});\n",
              "      const a = document.createElement('a');\n",
              "      a.href = window.URL.createObjectURL(blob);\n",
              "      a.download = filename;\n",
              "      div.appendChild(a);\n",
              "      a.click();\n",
              "      div.remove();\n",
              "    }\n",
              "  "
            ],
            "text/plain": [
              "<IPython.core.display.Javascript object>"
            ]
          },
          "metadata": {
            "tags": []
          }
        },
        {
          "output_type": "display_data",
          "data": {
            "application/javascript": [
              "download(\"download_e9a6dada-584f-4150-9048-c2d7fe58e872\", \"gene_ids_with_diff.csv\", 170201)"
            ],
            "text/plain": [
              "<IPython.core.display.Javascript object>"
            ]
          },
          "metadata": {
            "tags": []
          }
        }
      ]
    }
  ]
}